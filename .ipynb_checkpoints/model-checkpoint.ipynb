{
 "cells": [
  {
   "cell_type": "markdown",
   "id": "467f1510-78e4-45b3-b308-c6c87969d868",
   "metadata": {},
   "source": [
    "# Predicción del coste de un seguro\n",
    "***\n",
    "\n",
    "***Autor:** Jesús Casado Rodríguez*<br>\n",
    "***Fecha:** 15-06-2023*<br>\n",
    "\n",
    "https://scikit-learn.org/stable/auto_examples/compose/plot_column_transformer_mixed_types.html"
   ]
  },
  {
   "cell_type": "code",
   "execution_count": 1,
   "id": "bbbadedd-0a07-4c8d-ae54-2ee306652c70",
   "metadata": {},
   "outputs": [],
   "source": [
    "import os\n",
    "import numpy as np\n",
    "import pandas as pd\n",
    "import joblib\n",
    "import seaborn as sns\n",
    "%matplotlib inline\n",
    "\n",
    "from sklearn.compose import ColumnTransformer\n",
    "from sklearn.linear_model import SGDRegressor\n",
    "from sklearn.metrics import mean_squared_error\n",
    "from sklearn.model_selection import train_test_split\n",
    "from sklearn.pipeline import Pipeline\n",
    "from sklearn.preprocessing import OneHotEncoder"
   ]
  },
  {
   "cell_type": "markdown",
   "id": "9504e5f4-15f2-42dd-accd-4f7c3fb5f161",
   "metadata": {},
   "source": [
    "## 1 Análisis exploratorio de datos"
   ]
  },
  {
   "cell_type": "code",
   "execution_count": 2,
   "id": "df8548db-b35d-4fa8-bca7-39b17f291058",
   "metadata": {},
   "outputs": [
    {
     "name": "stdout",
     "output_type": "stream",
     "text": [
      "<class 'pandas.core.frame.DataFrame'>\n",
      "RangeIndex: 1338 entries, 0 to 1337\n",
      "Data columns (total 7 columns):\n",
      " #   Column    Non-Null Count  Dtype  \n",
      "---  ------    --------------  -----  \n",
      " 0   age       1338 non-null   int64  \n",
      " 1   sex       1338 non-null   object \n",
      " 2   bmi       1338 non-null   float64\n",
      " 3   children  1338 non-null   int64  \n",
      " 4   smoker    1338 non-null   object \n",
      " 5   region    1338 non-null   object \n",
      " 6   charges   1338 non-null   float64\n",
      "dtypes: float64(2), int64(2), object(3)\n",
      "memory usage: 73.3+ KB\n"
     ]
    }
   ],
   "source": [
    "# importar datos\n",
    "insurance = pd.read_csv('data/insurance.csv')\n",
    "\n",
    "insurance.info()"
   ]
  },
  {
   "cell_type": "markdown",
   "id": "5dddafcb-74ef-4783-adff-81387cba91b0",
   "metadata": {},
   "source": [
    "Hay al menos 3 variables categóricos (_sex_, _smoker_, _region_), puesto que son de tipo texto. Además, incluiré como categórica la variable _children_, puesto que, a pesar de ser de tipo entero, tiene valores discretos que pueden tomarse como categorías. Sobre estas categorías habrá que hacer un preprocesado para que puedan utilizarse en el modelo de regresión.\n",
    "\n",
    "Por el contrario, las variables _age_ y _bmi_ son numéricas. Sobre ellas aplicaré un escalado para que tengan un orden de magnitud similar."
   ]
  },
  {
   "cell_type": "code",
   "execution_count": 3,
   "id": "d3915ef5-fba7-4085-bfc2-35753d8f2109",
   "metadata": {},
   "outputs": [
    {
     "data": {
      "text/plain": [
       "age         0\n",
       "sex         0\n",
       "bmi         0\n",
       "children    0\n",
       "smoker      0\n",
       "region      0\n",
       "charges     0\n",
       "dtype: int64"
      ]
     },
     "execution_count": 3,
     "metadata": {},
     "output_type": "execute_result"
    }
   ],
   "source": [
    "# check if there are missing values in the dataset\n",
    "insurance.isnull().sum()"
   ]
  },
  {
   "cell_type": "markdown",
   "id": "4bf99a6b-40d1-4d1e-885a-58b85f341145",
   "metadata": {},
   "source": [
    "El resultado de la celda anterior muestra que no hay datos faltantes que sea necesario rellenar en el preprocesado de los datos.\n",
    "\n",
    "Ahora genero dos gráficos para tener una idea de la relación entre las variables. Primero genero un gráfico con la matriz de correlación. Luego genero un gráfico que incluye los diagramas de dispersión de cada par de variables y la función de distribución de cada variable. Para que las variables categóricas aparezcan en este segundo gráfico tengo que convertirlas en numéricas \"manualmente\"."
   ]
  },
  {
   "cell_type": "code",
   "execution_count": 4,
   "id": "17fd8eb8-49ca-41b2-9117-c35077d9f65c",
   "metadata": {},
   "outputs": [
    {
     "ename": "NameError",
     "evalue": "name 'insurance_ohe' is not defined",
     "output_type": "error",
     "traceback": [
      "\u001b[1;31m---------------------------------------------------------------------------\u001b[0m",
      "\u001b[1;31mNameError\u001b[0m                                 Traceback (most recent call last)",
      "Cell \u001b[1;32mIn [4], line 2\u001b[0m\n\u001b[0;32m      1\u001b[0m \u001b[38;5;66;03m# matriz de correlación\u001b[39;00m\n\u001b[1;32m----> 2\u001b[0m sns\u001b[38;5;241m.\u001b[39mheatmap(\u001b[43minsurance_ohe\u001b[49m\u001b[38;5;241m.\u001b[39mcorr(\u001b[38;5;124m'\u001b[39m\u001b[38;5;124mspearman\u001b[39m\u001b[38;5;124m'\u001b[39m) \u001b[38;5;241m>\u001b[39m \u001b[38;5;241m.5\u001b[39m, cmap\u001b[38;5;241m=\u001b[39m\u001b[38;5;124m'\u001b[39m\u001b[38;5;124mviridis\u001b[39m\u001b[38;5;124m'\u001b[39m);\n",
      "\u001b[1;31mNameError\u001b[0m: name 'insurance_ohe' is not defined"
     ]
    }
   ],
   "source": [
    "# matriz de correlación\n",
    "sns.heatmap(insurance_ohe.corr('spearman') > .5, cmap='viridis');"
   ]
  },
  {
   "cell_type": "code",
   "execution_count": null,
   "id": "35ab7db3-4f2e-4ce5-900a-a1db8e929996",
   "metadata": {},
   "outputs": [],
   "source": [
    "insurance_transformed = insurance.replace({'sex': {'female': 1, 'male': 0},\n",
    "                                           'smoker': {'yes': 1, 'no': 0},\n",
    "                                           'region': {'southwest': 2, 'southeast': 1, 'northwest': 3, 'northeast': 0}})\n",
    "\n",
    "sns.pairplot(insurance_transformed, hue='smoker', corner=True);"
   ]
  },
  {
   "cell_type": "markdown",
   "id": "44388d80-963f-4704-80ff-c9174fe2b10e",
   "metadata": {},
   "source": [
    "Se ve una clara relación entre el coste del seguro y el hecho de ser fumador o no.Además, hay un cierto incremento del coste con la edad y el índice de masa corporal (aunque esta última no aparece en la matriz de correlación). A priori no se ve una relación clara ni con el sexo ni la región."
   ]
  },
  {
   "cell_type": "markdown",
   "id": "a43544b4-4642-4b76-b4c9-439f57c0e3b7",
   "metadata": {},
   "source": [
    "## 2 Modelo de predicción\n",
    "\n",
    "He decidido utilizar como modelo de regresión `SGDRegressor`. Antes de poder aplicar el modelo, creo un preprocesador independiente para las variables numéricas y las variables categóricas, y los uno en un único `Pipeline` de preprocesado. Posteriormente creo el `Pipeline` del modelo, que incluye el preprocesador y el modelo de regresión.\n",
    "\n",
    "Entreno el modelo y veo el rendimiento tanto en la muestra de entrenamiento como en la de validación. He utilizado como métrica la raíz del error cuadrático medio (RMSE) porque tiene las mismas unidades que la variable a predecir."
   ]
  },
  {
   "cell_type": "code",
   "execution_count": null,
   "id": "6d52fb52-01c8-469f-bf84-b86c888b5e3c",
   "metadata": {},
   "outputs": [],
   "source": [
    "# crear muestras de entrenamiento y validación\n",
    "y = insurance.charges\n",
    "X = insurance.drop('charges', axis=1)\n",
    "X_train, X_test, y_train, y_test = train_test_split(X, y, test_size=.3, random_state=0, shuffle=True)"
   ]
  },
  {
   "cell_type": "code",
   "execution_count": null,
   "id": "176aecce-9e4e-4226-98e3-bb5285bb8d39",
   "metadata": {},
   "outputs": [],
   "source": [
    "# preprocesador de las variables numéricas: reescalado de las variables\n",
    "numeric_features = ['age', 'bmi']\n",
    "numeric_transformer = Pipeline(steps=[('scaler', StandardScaler())])\n",
    "\n",
    "# preprocesador de las variables categóricas: one hot encoder\n",
    "categorical_features = ['sex', 'smoker', 'region', 'children']\n",
    "categorical_transformer = Pipeline(steps=[('encoder', OneHotEncoder(handle_unknown='ignore'))])\n",
    "\n",
    "# unir ambos preprocesos en un solo transformador\n",
    "preprocessor = ColumnTransformer(transformers=[('numeric', numeric_transformer, numeric_features),\n",
    "                                               ('categorical', categorical_transformer, categorical_features)])\n",
    "\n",
    "# definir el pipeline del modelo: preproceso + regresor\n",
    "model = Pipeline(steps=[('preprocessor', preprocessor),\n",
    "                        ('regressor', SGDRegressor(max_iter=1000, penalty='elasticnet', tol=1e-3, random_state=0))])"
   ]
  },
  {
   "cell_type": "code",
   "execution_count": null,
   "id": "d415a69d-598b-43f8-96b1-18f033ba879d",
   "metadata": {},
   "outputs": [],
   "source": [
    "model.fit(X_train, y_train.values)"
   ]
  },
  {
   "cell_type": "code",
   "execution_count": null,
   "id": "76c54eda-5fa2-4d90-b6d7-d669db5f8c38",
   "metadata": {},
   "outputs": [],
   "source": [
    "# calcular el rendimiento del modelo como la raíz del error cuadrático medio\n",
    "rmse_train = np.sqrt(mean_squared_error(y_train, model.predict(X_train)))\n",
    "rmse_test = np.sqrt(mean_squared_error(y_test, model.predict(X_test)))\n",
    "print('RMSE (train) =\\t{0:.2f} €'.format(rmse_train))\n",
    "print('RMSE (test)  =\\t{0:.2f} €'.format(rmse_test))"
   ]
  },
  {
   "cell_type": "code",
   "execution_count": null,
   "id": "ff53ff15-db09-4484-96b3-ceb834375a3f",
   "metadata": {},
   "outputs": [],
   "source": [
    "# exportar el modelo\n",
    "joblib.dump(model, open('modelo.pkl', 'wb'))"
   ]
  }
 ],
 "metadata": {
  "kernelspec": {
   "display_name": "Python 3 (ipykernel)",
   "language": "python",
   "name": "python3"
  },
  "language_info": {
   "codemirror_mode": {
    "name": "ipython",
    "version": 3
   },
   "file_extension": ".py",
   "mimetype": "text/x-python",
   "name": "python",
   "nbconvert_exporter": "python",
   "pygments_lexer": "ipython3",
   "version": "3.9.13"
  }
 },
 "nbformat": 4,
 "nbformat_minor": 5
}
