{
 "cells": [
  {
   "cell_type": "markdown",
   "id": "467f1510-78e4-45b3-b308-c6c87969d868",
   "metadata": {},
   "source": [
    "# Predicción del coste de un seguro\n",
    "***\n",
    "\n",
    "***Autor:** Jesús Casado Rodríguez*<br>\n",
    "***Fecha:** 15-06-2023*<br>\n",
    "\n",
    "https://scikit-learn.org/stable/auto_examples/compose/plot_column_transformer_mixed_types.html"
   ]
  },
  {
   "cell_type": "code",
   "execution_count": 1,
   "id": "bbbadedd-0a07-4c8d-ae54-2ee306652c70",
   "metadata": {},
   "outputs": [
    {
     "ename": "ModuleNotFoundError",
     "evalue": "No module named 'seaborn'",
     "output_type": "error",
     "traceback": [
      "\u001b[1;31m---------------------------------------------------------------------------\u001b[0m",
      "\u001b[1;31mModuleNotFoundError\u001b[0m                       Traceback (most recent call last)",
      "Cell \u001b[1;32mIn[1], line 5\u001b[0m\n\u001b[0;32m      3\u001b[0m \u001b[38;5;28;01mimport\u001b[39;00m \u001b[38;5;21;01mpandas\u001b[39;00m \u001b[38;5;28;01mas\u001b[39;00m \u001b[38;5;21;01mpd\u001b[39;00m\n\u001b[0;32m      4\u001b[0m \u001b[38;5;28;01mimport\u001b[39;00m \u001b[38;5;21;01mjoblib\u001b[39;00m\n\u001b[1;32m----> 5\u001b[0m \u001b[38;5;28;01mimport\u001b[39;00m \u001b[38;5;21;01mseaborn\u001b[39;00m \u001b[38;5;28;01mas\u001b[39;00m \u001b[38;5;21;01msns\u001b[39;00m\n\u001b[0;32m      6\u001b[0m get_ipython()\u001b[38;5;241m.\u001b[39mrun_line_magic(\u001b[38;5;124m'\u001b[39m\u001b[38;5;124mmatplotlib\u001b[39m\u001b[38;5;124m'\u001b[39m, \u001b[38;5;124m'\u001b[39m\u001b[38;5;124minline\u001b[39m\u001b[38;5;124m'\u001b[39m)\n\u001b[0;32m      8\u001b[0m \u001b[38;5;28;01mfrom\u001b[39;00m \u001b[38;5;21;01msklearn\u001b[39;00m\u001b[38;5;21;01m.\u001b[39;00m\u001b[38;5;21;01mcompose\u001b[39;00m \u001b[38;5;28;01mimport\u001b[39;00m ColumnTransformer\n",
      "\u001b[1;31mModuleNotFoundError\u001b[0m: No module named 'seaborn'"
     ]
    }
   ],
   "source": [
    "import os\n",
    "import numpy as np\n",
    "import pandas as pd\n",
    "import joblib\n",
    "import seaborn as sns\n",
    "%matplotlib inline\n",
    "\n",
    "from sklearn.compose import ColumnTransformer\n",
    "from sklearn.linear_model import SGDRegressor\n",
    "from sklearn.metrics import mean_squared_error\n",
    "from sklearn.model_selection import train_test_split\n",
    "from sklearn.pipeline import Pipeline\n",
    "from sklearn.preprocessing import OneHotEncoder"
   ]
  },
  {
   "cell_type": "markdown",
   "id": "9504e5f4-15f2-42dd-accd-4f7c3fb5f161",
   "metadata": {},
   "source": [
    "## 1 Análisis exploratorio de datos"
   ]
  },
  {
   "cell_type": "code",
   "execution_count": null,
   "id": "df8548db-b35d-4fa8-bca7-39b17f291058",
   "metadata": {},
   "outputs": [],
   "source": [
    "# importar datos\n",
    "insurance = pd.read_csv('../data/insurance.csv')\n",
    "\n",
    "insurance.info()"
   ]
  },
  {
   "cell_type": "markdown",
   "id": "5dddafcb-74ef-4783-adff-81387cba91b0",
   "metadata": {},
   "source": [
    "Hay al menos 3 variables categóricos (_sex_, _smoker_, _region_), puesto que son de tipo texto. Además, incluiré como categórica la variable _children_, puesto que, a pesar de ser de tipo entero, tiene valores discretos que pueden tomarse como categorías. Sobre estas categorías habrá que hacer un preprocesado para que puedan utilizarse en el modelo de regresión.\n",
    "\n",
    "Por el contrario, las variables _age_ y _bmi_ son numéricas. Sobre ellas aplicaré un escalado para que tengan un orden de magnitud similar."
   ]
  },
  {
   "cell_type": "code",
   "execution_count": null,
   "id": "d3915ef5-fba7-4085-bfc2-35753d8f2109",
   "metadata": {},
   "outputs": [],
   "source": [
    "# check if there are missing values in the dataset\n",
    "insurance.isnull().sum()"
   ]
  },
  {
   "cell_type": "markdown",
   "id": "4bf99a6b-40d1-4d1e-885a-58b85f341145",
   "metadata": {},
   "source": [
    "El resultado de la celda anterior muestra que no hay datos faltantes que sea necesario rellenar en el preprocesado de los datos.\n",
    "\n",
    "Ahora genero dos gráficos para tener una idea de la relación entre las variables. Primero genero un gráfico con la matriz de correlación. Luego genero un gráfico que incluye los diagramas de dispersión de cada par de variables y la función de distribución de cada variable. Para que las variables categóricas aparezcan en este segundo gráfico tengo que convertirlas en numéricas \"manualmente\"."
   ]
  },
  {
   "cell_type": "code",
   "execution_count": null,
   "id": "c1465e92-d0e1-484e-9dc2-a3838b17f569",
   "metadata": {},
   "outputs": [],
   "source": [
    "insurance_transformed = insurance.replace({'sex': {'female': 1, 'male': 0},\n",
    "                                           'smoker': {'yes': 1, 'no': 0},\n",
    "                                           'region': {'southwest': 2, 'southeast': 1, 'northwest': 3, 'northeast': 0}})"
   ]
  },
  {
   "cell_type": "code",
   "execution_count": null,
   "id": "b9272748-dbd8-4bf6-8b1b-7d87bad39e77",
   "metadata": {},
   "outputs": [],
   "source": [
    "# matriz de correlación\n",
    "sns.heatmap(insurance_transformed.corr('spearman') > .5, cmap='viridis');"
   ]
  },
  {
   "cell_type": "code",
   "execution_count": null,
   "id": "96fea626-7ec1-4121-b905-d8341d170e7f",
   "metadata": {},
   "outputs": [],
   "source": [
    "sns.pairplot(insurance_transformed, hue='smoker', corner=True);"
   ]
  },
  {
   "cell_type": "markdown",
   "id": "44388d80-963f-4704-80ff-c9174fe2b10e",
   "metadata": {},
   "source": [
    "Se ve una clara relación entre el coste del seguro y el hecho de ser fumador o no.Además, hay un cierto incremento del coste con la edad y el índice de masa corporal (aunque esta última no aparece en la matriz de correlación). A priori no se ve una relación clara ni con el sexo ni la región."
   ]
  },
  {
   "cell_type": "markdown",
   "id": "a43544b4-4642-4b76-b4c9-439f57c0e3b7",
   "metadata": {},
   "source": [
    "## 2 Modelo de predicción\n",
    "\n",
    "He decidido utilizar como modelo de regresión `SGDRegressor`. Antes de poder aplicar el modelo, creo un preprocesador independiente para las variables numéricas y las variables categóricas, y los uno en un único `Pipeline` de preprocesado. Posteriormente creo el `Pipeline` del modelo, que incluye el preprocesador y el modelo de regresión.\n",
    "\n",
    "Entreno el modelo y veo el rendimiento tanto en la muestra de entrenamiento como en la de validación. He utilizado como métrica la raíz del error cuadrático medio (RMSE) porque tiene las mismas unidades que la variable a predecir."
   ]
  },
  {
   "cell_type": "code",
   "execution_count": 10,
   "id": "6d52fb52-01c8-469f-bf84-b86c888b5e3c",
   "metadata": {},
   "outputs": [],
   "source": [
    "# crear muestras de entrenamiento y validación\n",
    "y = insurance.charges\n",
    "X = insurance.drop('charges', axis=1)\n",
    "X_train, X_test, y_train, y_test = train_test_split(X, y, test_size=.3, random_state=0, shuffle=True)"
   ]
  },
  {
   "cell_type": "code",
   "execution_count": 13,
   "id": "b61ddb2e-2fa6-4ac3-bb36-3d02366184df",
   "metadata": {},
   "outputs": [],
   "source": [
    "# extortar muestras de entrenamiento y validación\n",
    "train = pd.concat((X_train, y_train), axis=1)\n",
    "train.to_csv('my_model/datasets/train.csv', index=False)\n",
    "test = pd.concat((X_test, y_test), axis=1)\n",
    "test.to_csv('my_model/datasets/test.csv', index=False)"
   ]
  },
  {
   "cell_type": "code",
   "execution_count": null,
   "id": "176aecce-9e4e-4226-98e3-bb5285bb8d39",
   "metadata": {},
   "outputs": [],
   "source": [
    "# preprocesador de las variables numéricas: reescalado de las variables\n",
    "numeric_features = ['age', 'bmi']\n",
    "numeric_transformer = Pipeline(steps=[('scaler', StandardScaler())])\n",
    "\n",
    "# preprocesador de las variables categóricas: one hot encoder\n",
    "categorical_features = ['sex', 'smoker', 'region', 'children']\n",
    "categorical_transformer = Pipeline(steps=[('encoder', OneHotEncoder(handle_unknown='ignore'))])\n",
    "\n",
    "# unir ambos preprocesos en un solo transformador\n",
    "preprocessor = ColumnTransformer(transformers=[('numeric', numeric_transformer, numeric_features),\n",
    "                                               ('categorical', categorical_transformer, categorical_features)])\n",
    "\n",
    "# definir el pipeline del modelo: preproceso + regresor\n",
    "model = Pipeline(steps=[('preprocessor', preprocessor),\n",
    "                        ('regressor', SGDRegressor(max_iter=1000, penalty='elasticnet', tol=1e-3, random_state=0))])"
   ]
  },
  {
   "cell_type": "code",
   "execution_count": null,
   "id": "d415a69d-598b-43f8-96b1-18f033ba879d",
   "metadata": {},
   "outputs": [],
   "source": [
    "model.fit(X_train, y_train.values)"
   ]
  },
  {
   "cell_type": "code",
   "execution_count": null,
   "id": "76c54eda-5fa2-4d90-b6d7-d669db5f8c38",
   "metadata": {},
   "outputs": [],
   "source": [
    "# calcular el rendimiento del modelo como la raíz del error cuadrático medio\n",
    "rmse_train = np.sqrt(mean_squared_error(y_train, model.predict(X_train)))\n",
    "rmse_test = np.sqrt(mean_squared_error(y_test, model.predict(X_test)))\n",
    "print('RMSE (train) =\\t{0:.2f} €'.format(rmse_train))\n",
    "print('RMSE (test)  =\\t{0:.2f} €'.format(rmse_test))"
   ]
  },
  {
   "cell_type": "code",
   "execution_count": null,
   "id": "ff53ff15-db09-4484-96b3-ceb834375a3f",
   "metadata": {},
   "outputs": [],
   "source": [
    "# exportar el modelo\n",
    "joblib.dump(model, open('pl_insurance.pkl', 'wb'))"
   ]
  }
 ],
 "metadata": {
  "kernelspec": {
   "display_name": "Python 3 (ipykernel)",
   "language": "python",
   "name": "python3"
  },
  "language_info": {
   "codemirror_mode": {
    "name": "ipython",
    "version": 3
   },
   "file_extension": ".py",
   "mimetype": "text/x-python",
   "name": "python",
   "nbconvert_exporter": "python",
   "pygments_lexer": "ipython3",
   "version": "3.9.16"
  }
 },
 "nbformat": 4,
 "nbformat_minor": 5
}
